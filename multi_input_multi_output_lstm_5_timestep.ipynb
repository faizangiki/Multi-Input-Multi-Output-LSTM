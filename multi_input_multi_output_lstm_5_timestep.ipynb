{
 "cells": [
  {
   "cell_type": "code",
   "execution_count": 57,
   "metadata": {},
   "outputs": [
    {
     "data": {
      "text/html": [
       "<div>\n",
       "<style scoped>\n",
       "    .dataframe tbody tr th:only-of-type {\n",
       "        vertical-align: middle;\n",
       "    }\n",
       "\n",
       "    .dataframe tbody tr th {\n",
       "        vertical-align: top;\n",
       "    }\n",
       "\n",
       "    .dataframe thead th {\n",
       "        text-align: right;\n",
       "    }\n",
       "</style>\n",
       "<table border=\"1\" class=\"dataframe\">\n",
       "  <thead>\n",
       "    <tr style=\"text-align: right;\">\n",
       "      <th></th>\n",
       "      <th>AT</th>\n",
       "      <th>V</th>\n",
       "      <th>AP</th>\n",
       "      <th>RH</th>\n",
       "      <th>PE</th>\n",
       "    </tr>\n",
       "  </thead>\n",
       "  <tbody>\n",
       "    <tr>\n",
       "      <th>0</th>\n",
       "      <td>23.64</td>\n",
       "      <td>58.49</td>\n",
       "      <td>1011.40</td>\n",
       "      <td>74.20</td>\n",
       "      <td>445.75</td>\n",
       "    </tr>\n",
       "    <tr>\n",
       "      <th>1</th>\n",
       "      <td>29.74</td>\n",
       "      <td>56.90</td>\n",
       "      <td>1007.15</td>\n",
       "      <td>41.91</td>\n",
       "      <td>438.76</td>\n",
       "    </tr>\n",
       "    <tr>\n",
       "      <th>2</th>\n",
       "      <td>19.07</td>\n",
       "      <td>49.69</td>\n",
       "      <td>1007.22</td>\n",
       "      <td>76.79</td>\n",
       "      <td>453.09</td>\n",
       "    </tr>\n",
       "    <tr>\n",
       "      <th>3</th>\n",
       "      <td>11.80</td>\n",
       "      <td>40.66</td>\n",
       "      <td>1017.13</td>\n",
       "      <td>97.20</td>\n",
       "      <td>464.43</td>\n",
       "    </tr>\n",
       "    <tr>\n",
       "      <th>4</th>\n",
       "      <td>13.97</td>\n",
       "      <td>39.16</td>\n",
       "      <td>1016.05</td>\n",
       "      <td>84.60</td>\n",
       "      <td>470.96</td>\n",
       "    </tr>\n",
       "    <tr>\n",
       "      <th>...</th>\n",
       "      <td>...</td>\n",
       "      <td>...</td>\n",
       "      <td>...</td>\n",
       "      <td>...</td>\n",
       "      <td>...</td>\n",
       "    </tr>\n",
       "    <tr>\n",
       "      <th>9562</th>\n",
       "      <td>15.12</td>\n",
       "      <td>48.92</td>\n",
       "      <td>1011.80</td>\n",
       "      <td>72.93</td>\n",
       "      <td>462.59</td>\n",
       "    </tr>\n",
       "    <tr>\n",
       "      <th>9563</th>\n",
       "      <td>33.41</td>\n",
       "      <td>77.95</td>\n",
       "      <td>1010.30</td>\n",
       "      <td>59.72</td>\n",
       "      <td>432.90</td>\n",
       "    </tr>\n",
       "    <tr>\n",
       "      <th>9564</th>\n",
       "      <td>15.99</td>\n",
       "      <td>43.34</td>\n",
       "      <td>1014.20</td>\n",
       "      <td>78.66</td>\n",
       "      <td>465.96</td>\n",
       "    </tr>\n",
       "    <tr>\n",
       "      <th>9565</th>\n",
       "      <td>17.65</td>\n",
       "      <td>59.87</td>\n",
       "      <td>1018.58</td>\n",
       "      <td>94.65</td>\n",
       "      <td>450.93</td>\n",
       "    </tr>\n",
       "    <tr>\n",
       "      <th>9566</th>\n",
       "      <td>23.68</td>\n",
       "      <td>51.30</td>\n",
       "      <td>1011.86</td>\n",
       "      <td>71.24</td>\n",
       "      <td>451.67</td>\n",
       "    </tr>\n",
       "  </tbody>\n",
       "</table>\n",
       "<p>9567 rows × 5 columns</p>\n",
       "</div>"
      ],
      "text/plain": [
       "         AT      V       AP     RH      PE\n",
       "0     23.64  58.49  1011.40  74.20  445.75\n",
       "1     29.74  56.90  1007.15  41.91  438.76\n",
       "2     19.07  49.69  1007.22  76.79  453.09\n",
       "3     11.80  40.66  1017.13  97.20  464.43\n",
       "4     13.97  39.16  1016.05  84.60  470.96\n",
       "...     ...    ...      ...    ...     ...\n",
       "9562  15.12  48.92  1011.80  72.93  462.59\n",
       "9563  33.41  77.95  1010.30  59.72  432.90\n",
       "9564  15.99  43.34  1014.20  78.66  465.96\n",
       "9565  17.65  59.87  1018.58  94.65  450.93\n",
       "9566  23.68  51.30  1011.86  71.24  451.67\n",
       "\n",
       "[9567 rows x 5 columns]"
      ]
     },
     "execution_count": 57,
     "metadata": {},
     "output_type": "execute_result"
    }
   ],
   "source": [
    "import pandas as pd # pandas library use for data analysis\n",
    "#first manually convert xls to csv\n",
    "data = pd.read_csv(\"Folds_test.csv\") # import csv file as dataframe\n",
    "data # show dataframe "
   ]
  },
  {
   "cell_type": "code",
   "execution_count": 58,
   "metadata": {},
   "outputs": [],
   "source": [
    "import numpy as np # numpy is library use for matrix manipulation\n",
    "\n",
    "# split a univariate sequence into samples\n",
    "def split_sequence(sequence, n_steps): \n",
    "    X, y = list(), list() # initilize list for feature matrixs and labels\n",
    "    for i in range(len(sequence)): # loop through number of sequence \n",
    "        end_ix = i + n_steps # initilize end value  \n",
    "        if end_ix > len(sequence)-1: # check if end value is greater than length of sequence \n",
    "            break # use break to termninate the loop\n",
    "        seq_x, seq_y = sequence[i:end_ix], sequence[end_ix] # seperate features and labels\n",
    "        X.append(seq_x) # save feature in X list\n",
    "        y.append(seq_y) # save label in Y lisr\n",
    "    return np.array(X), np.array(y) # return X and Y"
   ]
  },
  {
   "cell_type": "code",
   "execution_count": 59,
   "metadata": {},
   "outputs": [],
   "source": [
    "x1= np.array(data['AT'].values)  # save values of AT column in x1\n",
    "x2= np.array(data['V'].values)  # save values of V column in x2\n",
    "x3= np.array(data['AP'].values)  # save values of AP column in x3\n",
    "x4= np.array(data['RH'].values)  # save values of RH column in x4\n",
    "x5= np.array(data['PE'].values) # save values of PE column in x5"
   ]
  },
  {
   "cell_type": "code",
   "execution_count": 60,
   "metadata": {},
   "outputs": [],
   "source": [
    "seq_len=1\n",
    "x_1, y_1 = split_sequence(x1, seq_len) # call split sequence function \n",
    "x_2, y_2 = split_sequence(x2, seq_len) # call split sequence function \n",
    "x_3, y_3 = split_sequence(x3, seq_len) # call split sequence function \n",
    "x_4, y_4 = split_sequence(x4, seq_len) # call split sequence function \n",
    "x_5, y_5 = split_sequence(x5, seq_len) # call split sequence function "
   ]
  },
  {
   "cell_type": "code",
   "execution_count": 61,
   "metadata": {},
   "outputs": [],
   "source": [
    "from numpy import hstack # use hstack to merger different columns\n",
    "X = hstack((x_1, x_2,x_3,x_4,x_5)) # merger 5 featuers into one matrix X "
   ]
  },
  {
   "cell_type": "code",
   "execution_count": 62,
   "metadata": {},
   "outputs": [],
   "source": [
    "y_1 = y_1.reshape((-1, 1)) # convert vector row to vector column matrix\n",
    "y_2 = y_2.reshape((-1, 1)) # convert vector row to vector column matrix\n",
    "y_3 = y_3.reshape((-1, 1)) # convert vector row to vector column matrix\n",
    "y_4 = y_4.reshape((-1, 1)) # convert vector row to vector column matrix\n",
    "y_5 = y_5.reshape((-1, 1)) # convert vector row to vector column matrix"
   ]
  },
  {
   "cell_type": "code",
   "execution_count": 63,
   "metadata": {},
   "outputs": [],
   "source": [
    "Y = np.column_stack((y_1,y_2,y_3,y_4,y_5)) # use column wise merge to 5 labels matrix into Y"
   ]
  },
  {
   "cell_type": "code",
   "execution_count": 64,
   "metadata": {},
   "outputs": [
    {
     "name": "stdout",
     "output_type": "stream",
     "text": [
      "(9566, 5)\n"
     ]
    }
   ],
   "source": [
    "print(X.shape) # \n",
    "from sklearn.preprocessing import MinMaxScaler\n",
    "scaler = MinMaxScaler(feature_range=(-1, 1))\n",
    "X = scaler.fit_transform(X)\n",
    "Y = scaler.fit_transform(Y)"
   ]
  },
  {
   "cell_type": "code",
   "execution_count": 87,
   "metadata": {},
   "outputs": [
    {
     "name": "stdout",
     "output_type": "stream",
     "text": [
      "x: (9566, 5, 1) y: (9566, 5)\n",
      "(5, 1)\n",
      "5\n",
      "xtrain: (7652, 5, 1) ytrian: (7652, 5)\n",
      "Model: \"sequential_14\"\n",
      "_________________________________________________________________\n",
      "Layer (type)                 Output Shape              Param #   \n",
      "=================================================================\n",
      "lstm_29 (LSTM)               (None, 5, 200)            161600    \n",
      "_________________________________________________________________\n",
      "dropout_23 (Dropout)         (None, 5, 200)            0         \n",
      "_________________________________________________________________\n",
      "lstm_30 (LSTM)               (None, 100)               120400    \n",
      "_________________________________________________________________\n",
      "dropout_24 (Dropout)         (None, 100)               0         \n",
      "_________________________________________________________________\n",
      "dense_12 (Dense)             (None, 5)                 505       \n",
      "=================================================================\n",
      "Total params: 282,505\n",
      "Trainable params: 282,505\n",
      "Non-trainable params: 0\n",
      "_________________________________________________________________\n",
      "Train on 6886 samples, validate on 766 samples\n",
      "Epoch 1/30\n",
      "6886/6886 - 9s - loss: 0.1672 - val_loss: 0.1680\n",
      "Epoch 2/30\n",
      "6886/6886 - 5s - loss: 0.1653 - val_loss: 0.1685\n",
      "Epoch 3/30\n",
      "6886/6886 - 5s - loss: 0.1651 - val_loss: 0.1681\n",
      "Epoch 4/30\n",
      "6886/6886 - 6s - loss: 0.1647 - val_loss: 0.1682\n",
      "Epoch 5/30\n",
      "6886/6886 - 6s - loss: 0.1649 - val_loss: 0.1684\n",
      "Epoch 6/30\n",
      "6886/6886 - 6s - loss: 0.1646 - val_loss: 0.1681\n",
      "Epoch 7/30\n",
      "6886/6886 - 5s - loss: 0.1646 - val_loss: 0.1680\n",
      "Epoch 8/30\n",
      "6886/6886 - 5s - loss: 0.1645 - val_loss: 0.1683\n",
      "Epoch 9/30\n",
      "6886/6886 - 6s - loss: 0.1645 - val_loss: 0.1684\n",
      "Epoch 10/30\n",
      "6886/6886 - 5s - loss: 0.1645 - val_loss: 0.1680\n",
      "Epoch 11/30\n",
      "6886/6886 - 5s - loss: 0.1645 - val_loss: 0.1679\n",
      "Epoch 12/30\n",
      "6886/6886 - 5s - loss: 0.1644 - val_loss: 0.1681\n",
      "Epoch 13/30\n",
      "6886/6886 - 5s - loss: 0.1644 - val_loss: 0.1680\n",
      "Epoch 14/30\n",
      "6886/6886 - 5s - loss: 0.1644 - val_loss: 0.1680\n",
      "Epoch 15/30\n",
      "6886/6886 - 5s - loss: 0.1644 - val_loss: 0.1680\n",
      "Epoch 16/30\n",
      "6886/6886 - 5s - loss: 0.1643 - val_loss: 0.1683\n",
      "Epoch 17/30\n",
      "6886/6886 - 5s - loss: 0.1644 - val_loss: 0.1681\n",
      "Epoch 18/30\n",
      "6886/6886 - 5s - loss: 0.1643 - val_loss: 0.1682\n",
      "Epoch 19/30\n",
      "6886/6886 - 5s - loss: 0.1643 - val_loss: 0.1681\n",
      "Epoch 20/30\n",
      "6886/6886 - 5s - loss: 0.1643 - val_loss: 0.1681\n",
      "Epoch 21/30\n",
      "6886/6886 - 5s - loss: 0.1644 - val_loss: 0.1681\n",
      "Epoch 22/30\n",
      "6886/6886 - 5s - loss: 0.1644 - val_loss: 0.1680\n",
      "Epoch 23/30\n",
      "6886/6886 - 6s - loss: 0.1643 - val_loss: 0.1680\n",
      "Epoch 24/30\n",
      "6886/6886 - 6s - loss: 0.1643 - val_loss: 0.1679\n",
      "Epoch 25/30\n",
      "6886/6886 - 5s - loss: 0.1643 - val_loss: 0.1682\n",
      "Epoch 26/30\n",
      "6886/6886 - 6s - loss: 0.1643 - val_loss: 0.1680\n",
      "Epoch 27/30\n",
      "6886/6886 - 5s - loss: 0.1643 - val_loss: 0.1681\n",
      "Epoch 28/30\n",
      "6886/6886 - 5s - loss: 0.1643 - val_loss: 0.1680\n",
      "Epoch 29/30\n",
      "6886/6886 - 5s - loss: 0.1643 - val_loss: 0.1680\n",
      "Epoch 30/30\n",
      "6886/6886 - 5s - loss: 0.1643 - val_loss: 0.1681\n"
     ]
    }
   ],
   "source": [
    "from tensorflow.keras.models import Sequential # import keras sequential library\n",
    "from tensorflow.keras.layers import Dense, LSTM,Dropout # import keras dense and lstm layers\n",
    "from sklearn.model_selection import train_test_split # import train and test library\n",
    "from sklearn.metrics import mean_squared_error # import metrics\n",
    "import matplotlib.pyplot as plt # for visualization purpose\n",
    "\n",
    "x = X.reshape(X.shape[0], X.shape[1], 1) # As lstm need three dimensions, so add one extra dimension\n",
    "print(\"x:\", x.shape, \"y:\", Y.shape) # print shape\n",
    " \n",
    "in_dim = (x.shape[1], x.shape[2]) # save in input dimension\n",
    "out_dim = Y.shape[1] # save in out_dim variable\n",
    "print(in_dim) # print \n",
    "print(out_dim) # print \n",
    "\n",
    "xtrain, xtest, ytrain, ytest=train_test_split(x, Y, test_size=0.2) # call train_test_split function\n",
    "print(\"xtrain:\", xtrain.shape, \"ytrian:\", ytrain.shape) # print \n",
    "\n",
    "\n",
    "\n",
    "\n",
    "model = Sequential() # call sequential constructor\n",
    "model.add(LSTM(200, input_shape=in_dim,return_sequences=True, activation=\"relu\")) # configure lstm layers with 64 hidden neurons\n",
    "model.add(Dropout(0.5))\n",
    "#model.add(LSTM(32, return_sequences=True,activation=\"relu\")) # 2nd layer is 32 hidden neurons\n",
    "#model.add(Dropout(0.5))\n",
    "model.add(LSTM(100,activation=\"relu\")) # 2nd layer is 16 hidden neurons\n",
    "model.add(Dropout(0.5))\n",
    "model.add(Dense(out_dim,activation='linear')) # fully connected layer with 5 variable\n",
    "model.compile(loss=\"mse\", optimizer=\"adam\") # use optimizer adam and loss is mse\n",
    "model.summary() # overall summary \n",
    "\n",
    "history=model.fit(xtrain, ytrain, validation_split=0.1,epochs=30,shuffle=True, batch_size=64, verbose=2) # train the network"
   ]
  },
  {
   "cell_type": "code",
   "execution_count": 88,
   "metadata": {},
   "outputs": [
    {
     "data": {
      "image/png": "[encoded data removed]",
      "text/plain": [
       "<Figure size 432x288 with 1 Axes>"
      ]
     },
     "metadata": {
      "needs_background": "light"
     },
     "output_type": "display_data"
    }
   ],
   "source": [
    "# summarize history for loss\n",
    "plt.plot(history.history['loss'])\n",
    "plt.plot(history.history['val_loss'])\n",
    "plt.title('model loss')\n",
    "plt.ylabel('loss')\n",
    "plt.xlabel('epoch')\n",
    "plt.legend(['train', 'test'], loc='upper left')\n",
    "plt.show()"
   ]
  },
  {
   "cell_type": "code",
   "execution_count": 89,
   "metadata": {},
   "outputs": [
    {
     "data": {
      "text/plain": [
       "array([[  19.576881,   54.147564, 1013.36475 ,   73.15017 ,  454.67633 ],\n",
       "       [  19.63965 ,   54.26068 , 1013.3526  ,   73.236824,  454.4525  ],\n",
       "       [  19.55056 ,   54.104084, 1013.37036 ,   73.153854,  454.76266 ],\n",
       "       ...,\n",
       "       [  19.61977 ,   54.2125  , 1013.3611  ,   73.23587 ,  454.53992 ],\n",
       "       [  19.648376,   54.270798, 1013.354   ,   73.27191 ,  454.42432 ],\n",
       "       [  19.579718,   54.15362 , 1013.36487 ,   73.15522 ,  454.6641  ]],\n",
       "      dtype=float32)"
      ]
     },
     "execution_count": 89,
     "metadata": {},
     "output_type": "execute_result"
    }
   ],
   "source": [
    "testpred = model.predict(xtest) # validate model on test data \n",
    "#print(testpred)\n",
    "testpred = scaler.inverse_transform(testpred) # denormalized the data\n",
    "testpred # show the test prediction result"
   ]
  },
  {
   "cell_type": "code",
   "execution_count": 90,
   "metadata": {},
   "outputs": [
    {
     "data": {
      "text/plain": [
       "array([[-0.44929178],\n",
       "       [-0.42953737],\n",
       "       [ 0.26206385],\n",
       "       [ 0.6075067 ],\n",
       "       [ 0.43655629]])"
      ]
     },
     "execution_count": 90,
     "metadata": {},
     "output_type": "execute_result"
    }
   ],
   "source": [
    "xtest[0] # for one row "
   ]
  },
  {
   "cell_type": "code",
   "execution_count": 91,
   "metadata": {},
   "outputs": [],
   "source": [
    "test_one_row = np.expand_dims(xtest[0], axis=0) #  add dummy dimension"
   ]
  },
  {
   "cell_type": "code",
   "execution_count": 92,
   "metadata": {},
   "outputs": [
    {
     "data": {
      "text/plain": [
       "array([[  19.576881,   54.147564, 1013.36475 ,   73.15017 ,  454.67633 ]],\n",
       "      dtype=float32)"
      ]
     },
     "execution_count": 92,
     "metadata": {},
     "output_type": "execute_result"
    }
   ],
   "source": [
    "testpred_row = model.predict(test_one_row) # test with one row \n",
    "testpred_row = scaler.inverse_transform(testpred_row) # denormalized the prediction\n",
    "testpred_row # show the result"
   ]
  },
  {
   "cell_type": "code",
   "execution_count": null,
   "metadata": {},
   "outputs": [],
   "source": []
  }
 ],
 "metadata": {
  "kernelspec": {
   "display_name": "Python 3",
   "language": "python",
   "name": "python3"
  },
  "language_info": {
   "codemirror_mode": {
    "name": "ipython",
    "version": 3
   },
   "file_extension": ".py",
   "mimetype": "text/x-python",
   "name": "python",
   "nbconvert_exporter": "python",
   "pygments_lexer": "ipython3",
   "version": "3.7.6"
  }
 },
 "nbformat": 4,
 "nbformat_minor": 4
}
